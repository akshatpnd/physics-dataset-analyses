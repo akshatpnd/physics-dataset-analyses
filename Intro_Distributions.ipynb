{
 "cells": [
  {
   "cell_type": "code",
   "execution_count": 65,
   "metadata": {},
   "outputs": [],
   "source": [
    "import numpy as np\n",
    "import matplotlib\n",
    "import matplotlib.pyplot as plt\n",
    "import scipy\n",
    "from scipy import stats"
   ]
  },
  {
   "cell_type": "markdown",
   "metadata": {},
   "source": [
    "# A little Statistics"
   ]
  },
  {
   "cell_type": "markdown",
   "metadata": {},
   "source": [
    "## 1. Normal Distribution\n",
    "The normal distribution is a type of continuous distribution. It's general formula is $$\\frac{1}{(\\sigma\\sqrt2\\pi)}e^{-0.5(\\frac{x-\\mu}{\\sigma})^2}$$\n",
    "The parameters $\\mu, \\sigma$ stand for the mean and the standard deviation of the distribution. In our case, we will be looking at a special\n",
    "case called the standard normal which has a mean of 0 and s.d of 1."
   ]
  },
  {
   "cell_type": "code",
   "execution_count": 96,
   "metadata": {},
   "outputs": [
    {
     "name": "stdout",
     "output_type": "stream",
     "text": [
      "The probabilities corresponding to the sigma values are [5.00000000e-01 1.58655254e-01 2.27501319e-02 2.86651572e-07]\n",
      "The probabilities from the z_table corresponding to the sigma values are [0.5        0.84134475 0.97724987 0.99999971]\n"
     ]
    }
   ],
   "source": [
    "# Trying different values for sigma and checking for consistency on z-table\n",
    "vals = [0, 1, 2, 5]\n",
    "sigma_probs = 1 - norm.cdf(vals)\n",
    "print('The probabilities corresponding to the sigma values are ' + str(sigma_probs))\n",
    "z_probs = norm.cdf(vals)\n",
    "print('The probabilities from the z_table corresponding to the sigma values are ' + str(z_probs))"
   ]
  },
  {
   "cell_type": "markdown",
   "metadata": {},
   "source": [
    "The sigma probabilities are consistent with the z-table probabilities since the sigma probabilites are the right hand integral while the z-table ones are left side integrals.\n",
    "\n",
    "The values corresponding to the sigma values from the z-table are listed below"
   ]
  },
  {
   "cell_type": "markdown",
   "metadata": {},
   "source": [
    "| Sigma Value | Z-Table Value |  Probability |   |   |\n",
    "|-------------|---------------|---|---|---|\n",
    "| 0           | 0.5           | 0.5  |   |   |\n",
    "| 1           | 0.84          |  0.84 |   |   |\n",
    "| 2           | 0.97          |  0.97 |   |   |\n",
    "| 5           | 0.99          |  0.99 |   |   |"
   ]
  },
  {
   "cell_type": "code",
   "execution_count": 67,
   "metadata": {},
   "outputs": [
    {
     "name": "stdout",
     "output_type": "stream",
     "text": [
      "The sigma values corresponding to known probabilities are [0. 1. 2. 5.]\n"
     ]
    }
   ],
   "source": [
    "# Trying different values for probabilities and checking for consistency for sigma values\n",
    "sigma_vals = norm.ppf(z_probs)\n",
    "print('The sigma values corresponding to known probabilities are ' + str(sigma_vals))"
   ]
  },
  {
   "cell_type": "markdown",
   "metadata": {},
   "source": [
    "Once again, considering that sigma probabilities are right side integrals we can use the probabilities that should correspond to known sigma values to ensure that we have the right sigma values."
   ]
  },
  {
   "cell_type": "markdown",
   "metadata": {},
   "source": [
    "## 2. Rayleigh Distribution\n",
    "The Rayleigh distribution is a continuous probability distribution for non-negative valued random variables. It's general formula is $$\\frac{x}{\\sigma^2}e^{\\frac{-x^2}{2\\sigma^2}}, for  x > 0$$\n",
    "Here $\\sigma$ is the scale parameter"
   ]
  },
  {
   "cell_type": "code",
   "execution_count": 110,
   "metadata": {},
   "outputs": [],
   "source": [
    "d = stats.rayleigh.rvs(scale = 0.01, size = 100000)"
   ]
  },
  {
   "cell_type": "code",
   "execution_count": 111,
   "metadata": {},
   "outputs": [
    {
     "data": {
      "image/png": "[encoded data removed]",
      "text/plain": [
       "<Figure size 432x288 with 1 Axes>"
      ]
     },
     "metadata": {
      "needs_background": "light"
     },
     "output_type": "display_data"
    }
   ],
   "source": [
    "fig, ax = plt.subplots(1, 1)\n",
    "ax.hist(d,50, density=True)\n",
    "plt.xlim([0, 0.04])\n",
    "x = np.linspace(0, 0.04,1000)\n",
    "ax.plot(x,stats.rayleigh.pdf(x, scale = 0.01),linewidth = 8,alpha = 0.7, label = 'Analytical pdf')\n",
    "plt.legend()\n",
    "plt.show()"
   ]
  },
  {
   "cell_type": "code",
   "execution_count": 90,
   "metadata": {},
   "outputs": [
    {
     "data": {
      "image/png": "[encoded data removed]",
      "text/plain": [
       "<Figure size 432x288 with 1 Axes>"
      ]
     },
     "metadata": {
      "needs_background": "light"
     },
     "output_type": "display_data"
    }
   ],
   "source": [
    "fig, ax = plt.subplots(1, 1)\n",
    "ax.hist(d,50, density=True)\n",
    "plt.yscale('log')\n",
    "plt.tick_params(labelsize = 24)\n",
    "plt.xlim([-0.01,0.05])\n",
    "x = np.linspace(0,0.05,1000)\n",
    "ax.plot(x,stats.rayleigh.pdf(x, scale = 0.01),linewidth = 8,alpha = 0.7)\n",
    "plt.show()"
   ]
  },
  {
   "cell_type": "markdown",
   "metadata": {},
   "source": [
    "## 3. Sigma Calculation\n",
    "For the rayleigh distribution, the value chosen for the hypothetical measurement is 0.028.\n",
    "The statistical question being asked will be: The probability of the background giving a data point that is as or more signal-like than the reading that I have is the same probability as if my data was X$\\sigma$ away from the mean"
   ]
  },
  {
   "cell_type": "markdown",
   "metadata": {},
   "source": [
    "The mathematical representation of this would be: $$\\int_{0.028}^{\\infty} \\frac{x}{\\sigma^2}e^{\\frac{-x^2}{2\\sigma^2}} dx$$"
   ]
  },
  {
   "cell_type": "code",
   "execution_count": null,
   "metadata": {},
   "outputs": [],
   "source": [
    "prob = stats.rayleigh.cdf(0.028, scale = 0.01)\n",
    "sigma_val = stats.rayleigh.ppf(prob, scale = 0.01)\n",
    "print(prob)\n",
    "print('The corresponding sigma value is ' + str(sigma_val))"
   ]
  },
  {
   "cell_type": "code",
   "execution_count": 113,
   "metadata": {},
   "outputs": [
    {
     "name": "stdout",
     "output_type": "stream",
     "text": [
      "The hypothetical sigma values are [0.    0.012 0.023 0.033]\n"
     ]
    }
   ],
   "source": [
    "hypo_vals = [-0.004, 0.012, 0.023, 0.033]\n",
    "hypo_probs = stats.rayleigh.cdf(hypo_vals, scale = 0.01)\n",
    "hypo_sigmas = stats.rayleigh.ppf(hypo_probs, scale = 0.01)\n",
    "print('The hypothetical sigma values are ' + str(hypo_sigmas))"
   ]
  },
  {
   "cell_type": "markdown",
   "metadata": {},
   "source": [
    "The pattern that we see is that the sigma values increase the closer we get to the extreme right limit of the distribution."
   ]
  },
  {
   "cell_type": "markdown",
   "metadata": {},
   "source": [
    "# Non-Continuous Distributions"
   ]
  },
  {
   "cell_type": "markdown",
   "metadata": {},
   "source": [
    "## Binomial Distribution\n",
    "The binomial distribution is the discrete probability distribution of the number of successes in a sequence of n independent experiments. It's general formula is $$\\binom{n}{k} p^k (1-p)^{n-k}$$\n",
    "The parameters n and p represent the number of tries, the probability of success, and k is the number of successes."
   ]
  },
  {
   "cell_type": "code",
   "execution_count": 161,
   "metadata": {},
   "outputs": [
    {
     "data": {
      "image/png": "[encoded data removed]",
      "text/plain": [
       "<Figure size 432x288 with 5 Axes>"
      ]
     },
     "metadata": {
      "needs_background": "light"
     },
     "output_type": "display_data"
    }
   ],
   "source": [
    "fig, axs = plt.subplots(5, sharex=True)\n",
    "n = 10\n",
    "r_values = list(range(n + 1)) \n",
    "axs[0].bar(r_values, [stats.binom.pmf(r, n, 0) for r in r_values])\n",
    "axs[0].set_title('p = 0')\n",
    "axs[1].bar(r_values, [stats.binom.pmf(r, n, 0.2) for r in r_values])\n",
    "axs[1].set_title('p = 0.2')\n",
    "axs[2].bar(r_values, [stats.binom.pmf(r, n, 0.5) for r in r_values])\n",
    "axs[2].set_title('p = 0.5')\n",
    "axs[3].bar(r_values, [stats.binom.pmf(r, n, 0.8) for r in r_values])\n",
    "axs[3].set_title('p = 0.8')\n",
    "axs[4].bar(r_values, [stats.binom.pmf(r, n, 1) for r in r_values])\n",
    "axs[4].set_title('p = 1')\n",
    "fig.tight_layout()\n",
    "plt.show()"
   ]
  },
  {
   "cell_type": "markdown",
   "metadata": {},
   "source": [
    "As we can see, as the probability for success increases the distribution shifts towards the right showing a higher change of more successful trials. When the probability for success is 0.5, the distribution resembles a normal distribution."
   ]
  },
  {
   "cell_type": "markdown",
   "metadata": {},
   "source": [
    "The statistical question being asked will be: The probability of the background giving a data point that is as or more signal-like than the reading that I have is the same probability as if my data was X$\\sigma$ away from the mean.\n",
    "Data point = 6 successes"
   ]
  },
  {
   "cell_type": "code",
   "execution_count": 179,
   "metadata": {},
   "outputs": [
    {
     "name": "stdout",
     "output_type": "stream",
     "text": [
      "The sigma value is 6.0\n"
     ]
    }
   ],
   "source": [
    "# Probability associated to data point\n",
    "probs_binom = stats.binom.cdf(6, 10, 0.6)\n",
    "\n",
    "# Sigma associated to probability\n",
    "sigma_binom = stats.binom.ppf(probs_binom, 10, 0.6)\n",
    "print('The sigma value is ' + str(sigma_binom))"
   ]
  },
  {
   "cell_type": "markdown",
   "metadata": {},
   "source": [
    "Given that we are working with a discrete distribution (binomial), this means that our experiment can only have one of two values and each trial's result will be independent of the last."
   ]
  }
 ],
 "metadata": {
  "kernelspec": {
   "display_name": "Python 3",
   "language": "python",
   "name": "python3"
  },
  "language_info": {
   "codemirror_mode": {
    "name": "ipython",
    "version": 3
   },
   "file_extension": ".py",
   "mimetype": "text/x-python",
   "name": "python",
   "nbconvert_exporter": "python",
   "pygments_lexer": "ipython3",
   "version": "3.7.4"
  }
 },
 "nbformat": 4,
 "nbformat_minor": 4
}
